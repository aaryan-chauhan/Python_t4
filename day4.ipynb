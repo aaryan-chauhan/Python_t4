{
 "cells": [
  {
   "cell_type": "markdown",
   "metadata": {},
   "source": [
    "# NumPy"
   ]
  },
  {
   "cell_type": "code",
   "execution_count": 15,
   "metadata": {},
   "outputs": [
    {
     "name": "stdout",
     "output_type": "stream",
     "text": [
      "Dimension:  0\n",
      "()\n",
      "35\n"
     ]
    }
   ],
   "source": [
    "# 0D\n",
    "import numpy as np\n",
    "a=np.array(35)\n",
    "print(\"Dimension: \",a.ndim)\n",
    "print(\"shape: \",a.shape)\n",
    "print(a)"
   ]
  },
  {
   "cell_type": "code",
   "execution_count": 14,
   "metadata": {},
   "outputs": [
    {
     "name": "stdout",
     "output_type": "stream",
     "text": [
      "Dimension:  1\n",
      "(4,)\n",
      "[1 2 3 4]\n"
     ]
    }
   ],
   "source": [
    "# 1D\n",
    "import numpy as np\n",
    "a=np.array([1,2,3,4])\n",
    "print(\"Dimension: \",a.ndim)\n",
    "print(\"shape: \",a.shape)\n",
    "print(a)"
   ]
  },
  {
   "cell_type": "code",
   "execution_count": 13,
   "metadata": {},
   "outputs": [
    {
     "name": "stdout",
     "output_type": "stream",
     "text": [
      "Dimension:  2\n",
      "(2, 3)\n",
      "[[1 2 3]\n",
      " [5 6 7]]\n"
     ]
    }
   ],
   "source": [
    "# 2D\n",
    "import numpy as np\n",
    "a=np.array([[1,2,3],[5,6,7]])\n",
    "print(\"Dimension: \",a.ndim)\n",
    "print(\"shape: \",a.shape)\n",
    "print(a)"
   ]
  },
  {
   "cell_type": "code",
   "execution_count": 19,
   "metadata": {},
   "outputs": [
    {
     "name": "stdout",
     "output_type": "stream",
     "text": [
      "Dimension:  3\n",
      "shape:  (3, 2, 3)\n",
      "[[[1 2 3]\n",
      "  [5 6 7]]\n",
      "\n",
      " [[3 2 1]\n",
      "  [6 5 4]]\n",
      "\n",
      " [[3 2 1]\n",
      "  [6 5 4]]]\n"
     ]
    }
   ],
   "source": [
    "# 3D\n",
    "import numpy as np\n",
    "a=np.array([[[1,2,3],[5,6,7]],[[3,2,1],[6,5,4]],[[3,2,1],[6,5,4]]])\n",
    "print(\"Dimension: \",a.ndim)\n",
    "print(\"shape: \",a.shape)\n",
    "print(a)"
   ]
  },
  {
   "cell_type": "code",
   "execution_count": 20,
   "metadata": {},
   "outputs": [
    {
     "name": "stdout",
     "output_type": "stream",
     "text": [
      "Dimension:  4\n",
      "shape:  (2, 3, 2, 3)\n",
      "[[[[1 2 3]\n",
      "   [5 6 7]]\n",
      "\n",
      "  [[3 2 1]\n",
      "   [6 5 4]]\n",
      "\n",
      "  [[3 2 1]\n",
      "   [6 5 4]]]\n",
      "\n",
      "\n",
      " [[[1 2 3]\n",
      "   [5 6 7]]\n",
      "\n",
      "  [[3 2 1]\n",
      "   [6 5 4]]\n",
      "\n",
      "  [[3 2 1]\n",
      "   [6 5 4]]]]\n"
     ]
    }
   ],
   "source": [
    "# 4D\n",
    "import numpy as np\n",
    "a=np.array([[[[1,2,3],[5,6,7]],[[3,2,1],[6,5,4]],[[3,2,1],[6,5,4]]],[[[1,2,3],[5,6,7]],[[3,2,1],[6,5,4]],[[3,2,1],[6,5,4]]]])\n",
    "print(\"Dimension: \",a.ndim)\n",
    "print(\"shape: \",a.shape)\n",
    "print(a)"
   ]
  },
  {
   "cell_type": "code",
   "execution_count": 21,
   "metadata": {},
   "outputs": [
    {
     "name": "stdout",
     "output_type": "stream",
     "text": [
      "Dimension:  4\n",
      "shape:  (1, 1, 1, 3)\n",
      "[[[[1 2 3]]]]\n"
     ]
    }
   ],
   "source": [
    "# 4D\n",
    "import numpy as np\n",
    "a=np.array([[[[1,2,3]]]])\n",
    "print(\"Dimension: \",a.ndim)\n",
    "print(\"shape: \",a.shape)\n",
    "print(a)"
   ]
  },
  {
   "cell_type": "code",
   "execution_count": 24,
   "metadata": {},
   "outputs": [
    {
     "name": "stdout",
     "output_type": "stream",
     "text": [
      "[[2 3 4]\n",
      " [7 8 9]]\n"
     ]
    }
   ],
   "source": [
    "# slicing\n",
    "import numpy as np\n",
    "a=np.array([[1,2,3,4,5],[6,7,8,9,10]])\n",
    "print(a[:,1:4])"
   ]
  },
  {
   "cell_type": "code",
   "execution_count": 35,
   "metadata": {},
   "outputs": [
    {
     "name": "stdout",
     "output_type": "stream",
     "text": [
      "[[[ 8  9 10]\n",
      "  [13 14 15]]\n",
      "\n",
      " [[63 64 65]\n",
      "  [73 74 75]]]\n",
      "===============\n",
      "[[[52 53]\n",
      "  [62 63]\n",
      "  [72 73]]]\n",
      "===============\n",
      "[[[ 2  4]\n",
      "  [12 14]]\n",
      "\n",
      " [[52 54]\n",
      "  [72 74]]]\n",
      "===============\n",
      "[[[ 2]]\n",
      "\n",
      " [[52]]]\n"
     ]
    }
   ],
   "source": [
    "import numpy as np\n",
    "a=np.array([[[1,2,3,4,5],[6,7,8,9,10],[11,12,13,14,15]],[[51,52,53,54,55],[61,62,63,64,65],[71,72,73,74,75]]])\n",
    "print(a[:,1:,2:])\n",
    "print(\"===============\")\n",
    "print(a[1:,:,1:3])\n",
    "print(\"===============\")\n",
    "print(a[:,::2,1::2])\n",
    "print(\"===============\")\n",
    "print(a[:,:1,1:2])"
   ]
  },
  {
   "cell_type": "code",
   "execution_count": 46,
   "metadata": {},
   "outputs": [
    {
     "name": "stdout",
     "output_type": "stream",
     "text": [
      "[[1 2]\n",
      " [3 4]\n",
      " [5 6]]\n",
      "===============\n",
      "[[1 2 3]\n",
      " [4 5 6]]\n"
     ]
    }
   ],
   "source": [
    "#reshape\n",
    "import numpy as np\n",
    "a=np.array((1,2,3,4,5,6))\n",
    "a=a.reshape(3,2)\n",
    "print(a)\n",
    "print(\"===============\")\n",
    "\n",
    "a=a.reshape(2,-1)\n",
    "print(a)"
   ]
  },
  {
   "cell_type": "code",
   "execution_count": 43,
   "metadata": {},
   "outputs": [
    {
     "name": "stdout",
     "output_type": "stream",
     "text": [
      "[[[ 1  2  3  4  5]\n",
      "  [ 6  7  8  9 10]\n",
      "  [11 12 13 14 15]\n",
      "  [16 17 18 19 20]\n",
      "  [21 22 23 24 25]]\n",
      "\n",
      " [[26 27 28 29 30]\n",
      "  [31 32 33 34 35]\n",
      "  [36 37 38 39 40]\n",
      "  [41 42 43 44 45]\n",
      "  [46 47 48 49 50]]]\n"
     ]
    }
   ],
   "source": [
    "#reshape\n",
    "import numpy as np\n",
    "a=np.array(range(1,51))\n",
    "print(a.reshape(2,5,5))"
   ]
  },
  {
   "cell_type": "code",
   "execution_count": 49,
   "metadata": {},
   "outputs": [
    {
     "name": "stdout",
     "output_type": "stream",
     "text": [
      "[1 2 3 4 5 6]\n"
     ]
    }
   ],
   "source": [
    "import numpy as np\n",
    "a=np.array([[1,2],[3,4],[5,6]])\n",
    "print(a.reshape(-1))"
   ]
  },
  {
   "cell_type": "code",
   "execution_count": 59,
   "metadata": {},
   "outputs": [
    {
     "name": "stdout",
     "output_type": "stream",
     "text": [
      "[[[ 1  2  3]\n",
      "  [ 4  5  6]\n",
      "  [ 7  8  9]]\n",
      "\n",
      " [[10 11 12]\n",
      "  [13 14 15]\n",
      "  [16 17 18]]]\n",
      "===============\n",
      "[[ 2  5  8]\n",
      " [11 14 17]]\n",
      "===============\n",
      "57\n"
     ]
    }
   ],
   "source": [
    "import numpy as np\n",
    "\n",
    "a=np.array(range(1,19))\n",
    "a=(a.reshape(2,3,3))\n",
    "print(a)\n",
    "print(\"===============\")\n",
    "\n",
    "print(a[:,:,1])\n",
    "print(\"===============\")\n",
    "\n",
    "s=0\n",
    "for i in a[:,:,1].reshape(-1):\n",
    "    s+=i\n",
    "print(s)"
   ]
  },
  {
   "cell_type": "code",
   "execution_count": 61,
   "metadata": {},
   "outputs": [
    {
     "name": "stdout",
     "output_type": "stream",
     "text": [
      "[1 2 3 4 5 6 7 8]\n",
      "(8,)\n"
     ]
    }
   ],
   "source": [
    "import numpy as np\n",
    "a1=np.array((1,2,3,4))\n",
    "a2=np.array((5,6,7,8))\n",
    "n=np.concatenate((a1,a2))\n",
    "print(n)\n",
    "print(n.shape)"
   ]
  },
  {
   "cell_type": "code",
   "execution_count": 75,
   "metadata": {},
   "outputs": [
    {
     "name": "stdout",
     "output_type": "stream",
     "text": [
      "[[ 1  2  3]\n",
      " [ 4  5  6]\n",
      " [ 7  8  9]\n",
      " [10 11 12]\n",
      " [13 14 15]\n",
      " [16 17 18]]\n",
      "(6, 3)\n"
     ]
    }
   ],
   "source": [
    "# 2D concatenate\n",
    "import numpy as np\n",
    "a1=np.array(range(1,10)).reshape(3,3)\n",
    "a2=np.array(range(10,19)).reshape(3,3)\n",
    "n=np.concatenate((a1,a2),axis=0)\n",
    "print(n)\n",
    "print(n.shape)"
   ]
  },
  {
   "cell_type": "code",
   "execution_count": 82,
   "metadata": {},
   "outputs": [
    {
     "name": "stdout",
     "output_type": "stream",
     "text": [
      "[[[ 1  2 21 22]\n",
      "  [ 3  4 23 24]\n",
      "  [ 5  6 25 26]]\n",
      "\n",
      " [[ 7  8 27 28]\n",
      "  [ 9 10 29 30]\n",
      "  [11 12 31 32]]]\n",
      "(2, 3, 4)\n"
     ]
    }
   ],
   "source": [
    "# 3D concatenate\n",
    "import numpy as np\n",
    "a1=np.array(range(1,13)).reshape(2,3,2)\n",
    "a2=np.array(range(21,33)).reshape(2,3,2)\n",
    "n=np.concatenate((a1,a2),axis=2)\n",
    "print(n)\n",
    "print(n.shape)"
   ]
  },
  {
   "cell_type": "code",
   "execution_count": null,
   "metadata": {},
   "outputs": [],
   "source": []
  }
 ],
 "metadata": {
  "kernelspec": {
   "display_name": "Python 3",
   "language": "python",
   "name": "python3"
  },
  "language_info": {
   "codemirror_mode": {
    "name": "ipython",
    "version": 3
   },
   "file_extension": ".py",
   "mimetype": "text/x-python",
   "name": "python",
   "nbconvert_exporter": "python",
   "pygments_lexer": "ipython3",
   "version": "3.8.5"
  }
 },
 "nbformat": 4,
 "nbformat_minor": 4
}
