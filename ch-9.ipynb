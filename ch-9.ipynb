{
 "cells": [
  {
   "cell_type": "markdown",
   "metadata": {},
   "source": [
    "Method overloading is not possible in Python"
   ]
  },
  {
   "cell_type": "code",
   "execution_count": null,
   "metadata": {},
   "outputs": [],
   "source": [
    "class A():\n",
    "    def display(self,x,y=None):\n",
    "        if(y==None):\n",
    "            print(x)\n",
    "        else:\n",
    "            print(x,y)\n",
    "ob = A()\n",
    "ob.display(2)\n",
    "ob.display(9,5)"
   ]
  },
  {
   "cell_type": "markdown",
   "metadata": {},
   "source": [
    "- (+) b/w any two object of class will autometicaly call (__add__)\n",
    "- (-) b/w any two object of class will autometicaly call (__sub__)\n",
    "- (*) b/w any two object of class will autometicaly call (__mul__)\n",
    "- (/) b/w any two object of class will autometicaly call (__truediv__)\n",
    "- (//) b/w any two object of class will autometicaly call (__floordiv__)\n",
    "- (%) b/w any two object of class will autometicaly call (__mod__)\n",
    "- (**) b/w any two object of class will autometicaly call (__pow__)\n",
    "- (<) b/w any two object of class will autometicaly call (__lt__)\n",
    "- (>) b/w any two object of class will autometicaly call (__gt__)\n",
    "- (<=) b/w any two object of class will autometicaly call (__le__)\n",
    "- (>=) b/w any two object of class will autometicaly call (__ge__)\n",
    "- (!=) b/w any two object of class will autometicaly call (__ne__)\n",
    "- (==) b/w any two object of class will autometicaly call (__eq__)"
   ]
  },
  {
   "cell_type": "code",
   "execution_count": null,
   "metadata": {},
   "outputs": [],
   "source": [
    "class B():\n",
    "    def __init__(self,x,y):\n",
    "        self.x = x\n",
    "        self.y = y\n",
    "    def __add__(self,other):\n",
    "        x = self.x + other.x\n",
    "        y = self.y + other.y\n",
    "        return (x,y)\n",
    "    def __sub__(self,su):\n",
    "        x = self.x - su.x\n",
    "        y = self.y - su.y\n",
    "        return (x,y)\n",
    "    def __mul__(self,ot):\n",
    "        x = self.x * ot.x\n",
    "        y = self.y * ot.y\n",
    "        return(x,y)\n",
    "    def __floordiv__(self,fd):\n",
    "        x = self.x // fd.x\n",
    "        y = self.y // fd.y\n",
    "        return(x,y)\n",
    "p1 = B(20,30)\n",
    "p2 = B(20,30)\n",
    "print(p1//p2)"
   ]
  },
  {
   "cell_type": "code",
   "execution_count": null,
   "metadata": {},
   "outputs": [],
   "source": [
    "class Student():\n",
    "    def __init__(self,name,rn,age,marks):\n",
    "        self.name = name\n",
    "        self.rn = rn \n",
    "        self.age = age \n",
    "        self.marks = marks\n",
    "    def display(self):\n",
    "        print(\"Student name : \",self.name)\n",
    "        print(\"Student roll no. : \",self.rn)\n",
    "        print(\"Student Age : \",self.age)\n",
    "        print(\"Student Marks : \",self.marks)\n",
    "    def __eq__(self,other):\n",
    "        if(self.marks == other.marks):\n",
    "            return \"Marks are same!\"\n",
    "        else:\n",
    "            return \"Marks are Not same!\"\n",
    "s1 = Student(\"asdf\",12,19,87)\n",
    "s2 = Student(\"ghjk\",23,20,87)\n",
    "print(s1==s2)"
   ]
  },
  {
   "cell_type": "markdown",
   "metadata": {},
   "source": [
    "### Inheritance :\n",
    "    Parent class - Base class\n",
    "    child class - Derived class\n",
    "    1. Single\n",
    "    2. Multiple\n",
    "    3. Multi level\n",
    "    4. Hierarchical\n",
    "    5. Hybrid"
   ]
  },
  {
   "cell_type": "code",
   "execution_count": null,
   "metadata": {},
   "outputs": [],
   "source": [
    "class A():\n",
    "    def demo(self):\n",
    "        print(\"class A\")\n",
    "class B(A):\n",
    "    def dis(self):\n",
    "        print(\"class B\")\n",
    "ob = B()\n",
    "ob.demo()\n",
    "ob.dis()"
   ]
  },
  {
   "cell_type": "code",
   "execution_count": null,
   "metadata": {},
   "outputs": [],
   "source": [
    "# create a class Book(Base) which has name,n,author,publisher,isbn,year as variables and display method\n",
    "# create a class TextBook(Derived) which has course and display method including course\n",
    "\n",
    "class Book():\n",
    "    def __init__(self):\n",
    "        self.name = input(\"name : \") \n",
    "        self.n = input(\"n : \")\n",
    "        self.author = input(\"author : \")\n",
    "        self.publisher = input(\"publisher : \")\n",
    "        self.isbn = input(\"isbn : \")\n",
    "        self.year = input(\"year : \")\n",
    "    def display(self):\n",
    "        print(\"Name : \",self.name)\n",
    "        print(\"N : \",self.n)\n",
    "        print(\"Author : \",self.author)\n",
    "        print(\"Publisher : \",self.publisher)\n",
    "        print(\"ISBN : \",self.isbn)\n",
    "        print(\"Year : \",self.year)\n",
    "class TextBook(Book):\n",
    "    def __init__(self):\n",
    "        super().__init__()\n",
    "        self.course = input(\"course : \")\n",
    "    def display(self):\n",
    "        super().display()\n",
    "        print(\"Course : \",self.course)\n",
    "ob = TextBook()\n",
    "ob.display()"
   ]
  },
  {
   "cell_type": "code",
   "execution_count": null,
   "metadata": {},
   "outputs": [],
   "source": [
    "# Method resolution Order\n",
    "class Person():\n",
    "    def __init__(self):\n",
    "        self.name = input(\"name : \")\n",
    "        self.age = input(\"Age : \")\n",
    "class Car():\n",
    "    def __init__(self):\n",
    "        self.model = input(\"model : \")\n",
    "        self.color = input(\"color : \")\n",
    "class Parking(Person,Car):\n",
    "    def __init__(self):\n",
    "        Person.__init__(self)\n",
    "        Car.__init__(self)\n",
    "        self.parkingNo = input(\"parkingNo : \")\n",
    "    def display(self):\n",
    "        print(\"Name : \",self.name)\n",
    "        print(\"Age : \",self.age)\n",
    "        print(\"Model : \",self.model)\n",
    "        print(\"Color : \",self.color)\n",
    "        print(\"Parking No. : \",self.parkingNo)\n",
    "ob = Parking()\n",
    "ob.display()"
   ]
  },
  {
   "cell_type": "markdown",
   "metadata": {},
   "source": [
    "# MRO(Method Resolution Order)"
   ]
  },
  {
   "cell_type": "code",
   "execution_count": null,
   "metadata": {},
   "outputs": [],
   "source": [
    "class A:\n",
    "    def rk(self):\n",
    "        print(\" In class A\")\n",
    "class B:\n",
    "    def rk(self):\n",
    "        print(\" In class B\")\n",
    "class C(A, B):\n",
    "     def rk(self):\n",
    "            pass\n",
    "r = C()\n",
    "print(C.__mro__)"
   ]
  },
  {
   "cell_type": "code",
   "execution_count": null,
   "metadata": {},
   "outputs": [],
   "source": [
    "class A:\n",
    "     pass\n",
    "class B:\n",
    "     pass\n",
    "class C:\n",
    "     pass\n",
    "class X(A,B):\n",
    "     pass\n",
    "class Y(C,A,B):\n",
    "     pass\n",
    "class Z(A):\n",
    "     pass\n",
    "class P(Z,Y,X):\n",
    "     pass\n",
    "print(P.__mro__)"
   ]
  },
  {
   "cell_type": "code",
   "execution_count": null,
   "metadata": {},
   "outputs": [],
   "source": [
    "class Vehicle():\n",
    "    def __init__(self):\n",
    "        self.name = input(\"Enter Name : \")\n",
    "        self.mileage = input(\"Enter Mileage : \")\n",
    "        self.sc = int(input(\"Enter Seating Capacity : \"))\n",
    "\n",
    "    def display(self):\n",
    "        print(\"Name : \",self.name)\n",
    "        print(\"Mileage : \",self.mileage)\n",
    "        print(\"Seating Capacity : \",self.sc)\n",
    "    def fair(self):\n",
    "        return self.sc*100\n",
    "class Bus(Vehicle):\n",
    "    def fair(self):\n",
    "        return self.sc*100 + self.sc*10\n",
    "class Car(Vehicle):\n",
    "    def fair(self):\n",
    "        return self.sc*100 + self.sc*10\n",
    "bus = Bus()\n",
    "print(bus.fair())"
   ]
  },
  {
   "cell_type": "code",
   "execution_count": null,
   "metadata": {},
   "outputs": [],
   "source": [
    "class Matrix():\n",
    "    def __init__(self):\n",
    "        self.row = 0\n",
    "        self.col = 0\n",
    "    def get_Row(self):\n",
    "        self.row = int(input(\"Enter Row : \"))\n",
    "    def get_Col(self):\n",
    "        self.col = int(input(\"Enter Column : \"))\n",
    "    def set_Element(self):\n",
    "        self.mat=[]\n",
    "        for i in range(self.row):\n",
    "            l=[]\n",
    "            for j in range(self.col):\n",
    "                n = int(input(f\"Enter Element {i,j} : \"))\n",
    "                l.append(n)\n",
    "            self.mat.append(l)\n",
    "        print(self.mat) \n",
    "    def __add__(self,other):\n",
    "        if((self.row == other.row) and (other.col==self.col)):\n",
    "            self.ans = []\n",
    "            for i in range(self.row):\n",
    "                l = []\n",
    "                for j in range(self.col):\n",
    "                    n = self.mat[i][j] + other.mat[i][j]\n",
    "                    l.append(n)\n",
    "                self.ans.append(l)\n",
    "            print(self.ans)\n",
    "        else:\n",
    "            print(\"Matrices are not Addable.\")\n",
    "    def __mul__(m1,m2):\n",
    "        if(m1.col == m2.row):\n",
    "            res = []\n",
    "            for i in range(m1.row):\n",
    "                l = []\n",
    "                for j in range(m2.col):\n",
    "                    n = 0\n",
    "                    for k in range(m2.row):\n",
    "                        n += m1.mat[i][k]*m2.mat[k][j]\n",
    "                    l.append(n)\n",
    "                res.append(l)\n",
    "            print(res)\n",
    "m = Matrix()\n",
    "m.get_Row()\n",
    "m.get_Col()\n",
    "m.set_Element()\n",
    "m1 = Matrix()\n",
    "m1.get_Row()\n",
    "m1.get_Col()\n",
    "m1.set_Element()\n",
    "m * m1"
   ]
  },
  {
   "cell_type": "code",
   "execution_count": null,
   "metadata": {},
   "outputs": [],
   "source": [
    "# Implement the following hierarchy . The Staff function has name and salary as its data members, the derived class \n",
    "# Teaching has subject as its data member and the class NonTeaching has department as its data member. The derived class \n",
    "# method overrides (extends) the methods of the base class\n",
    "\n",
    "class Staff():\n",
    "    def __init__(self):\n",
    "        self.name = input(\"Enter Name : \")\n",
    "        self.sal = input(\"Enter Sal : \")\n",
    "class Teaching(Staff):\n",
    "    def __init__(self):\n",
    "        Staff.__init__()\n",
    "        self.sub = input(\"Enter Subject : \")\n",
    "class NonTeaching(Staff):\n",
    "    def __init__(self):\n",
    "        Staff.__init__()\n",
    "        self.dep = input(\"Enter Department : \")\n",
    "ch1 = Teaching()\n",
    "ch2 = NonTeaching()"
   ]
  },
  {
   "cell_type": "markdown",
   "metadata": {},
   "source": [
    "## Abstraction : "
   ]
  },
  {
   "cell_type": "code",
   "execution_count": null,
   "metadata": {},
   "outputs": [],
   "source": [
    "from abc import ABC,abstractmethod # abc(abstract base class) <- module ABC <- Function\n",
    "class AbDemo(ABC):\n",
    "    @abstractmethod \n",
    "    def demo(self):\n",
    "        pass\n",
    "class Base(AbDemo):\n",
    "    def demo(self):\n",
    "        print('Base class.')\n",
    "    \n",
    "b = Base()\n",
    "b.demo()"
   ]
  },
  {
   "cell_type": "code",
   "execution_count": null,
   "metadata": {},
   "outputs": [],
   "source": [
    "from abc import ABC,abstractmethod\n",
    "class Shape(ABC):\n",
    "    @abstractmethod\n",
    "    def calculate_area(self):\n",
    "        pass\n",
    "class Rectangle(Shape):\n",
    "    def __gt__(self,other):\n",
    "        return self.rarea > other.rarea\n",
    "    def calculate_area(self,l,b):\n",
    "        self.rarea = l*b\n",
    "        print(\"Area of Rectangle : \",self.rarea)\n",
    "class Circle(Shape):\n",
    "    def calculate_area(self,r):\n",
    "        carea = 3.14*(r**2)\n",
    "        print(\"Area of Circle : \",carea)\n",
    "r1 = Rectangle()\n",
    "r1.calculate_area(10,20)\n",
    "r2 = Rectangle()\n",
    "r2.calculate_area(20,30)\n",
    "print(r1>r2)\n",
    "print(r2>r1)\n",
    "print(Circle.__mro__)"
   ]
  },
  {
   "cell_type": "markdown",
   "metadata": {},
   "source": [
    "Imagine you own a call center. Use the following abstract class template to create three more classes, Respondent, \n",
    "Manager, and Director that inherit this Employee Abstract Class.\n",
    "from abc import ABC, abstractmethod\n",
    "class Employee(ABC):\n",
    " @abstractmethod\n",
    " def receive_call(self):\n",
    " pass\n",
    " \n",
    " @abstractmethod\n",
    " def end_call(self):\n",
    " pass\n",
    " @abstractmethod\n",
    " def is_free(self):\n",
    " pass\n",
    " \n",
    " @abstractmethod\n",
    " def get_rank(self):\n",
    " pass"
   ]
  },
  {
   "cell_type": "code",
   "execution_count": 1,
   "metadata": {},
   "outputs": [
    {
     "name": "stdout",
     "output_type": "stream",
     "text": [
      "Enter Name : asdf\n",
      "Enter ID : 1\n",
      "Enter Name : qwer\n",
      "Enter ID : 2\n",
      "Enter Name : zxcv\n",
      "Enter ID : 3\n",
      "Enter ID : 101\n",
      "Enter Name : nirav\n",
      "call received by  asdf\n"
     ]
    }
   ],
   "source": [
    "from abc import ABC, abstractmethod\n",
    "class Employee(ABC):\n",
    "    @abstractmethod\n",
    "    def receive_call(self):\n",
    "         pass\n",
    "    @abstractmethod\n",
    "    def end_call(self):\n",
    "        pass\n",
    "    @abstractmethod\n",
    "    def is_free(self):\n",
    "        pass\n",
    "    @abstractmethod\n",
    "    def get_rank(self):\n",
    "        pass\n",
    "class Respondent(Employee):\n",
    "    def __init__(self):\n",
    "        self.name = input(\"Enter Name : \")\n",
    "        self.id = input(\"Enter ID : \")\n",
    "        self.rank = 3\n",
    "        self.free = True\n",
    "    def receive_call(self):\n",
    "        print(\"call received by \",self.name)\n",
    "        self.free = False\n",
    "    def end_call(self):\n",
    "        print(\"call ended\")\n",
    "        self.free = True\n",
    "    def is_free(self):\n",
    "        return self.free\n",
    "    def get_rank(self):\n",
    "        return self.rank\n",
    "class Manager(Employee):\n",
    "    def __init__(self):\n",
    "        self.name = input(\"Enter Name : \")\n",
    "        self.id = input(\"Enter ID : \")\n",
    "        self.rank = 2\n",
    "        self.free = True\n",
    "    def receive_call(self):\n",
    "        print(\"call received by \",self.name)\n",
    "        self.free = False\n",
    "    def end_call(self):\n",
    "        print(\"call ended\")\n",
    "        self.free = True\n",
    "    def is_free(self):\n",
    "        return self.free\n",
    "    def get_rank(self):\n",
    "        return self.rank\n",
    "class Director(Employee):\n",
    "    def __init__(self):\n",
    "        self.name = input(\"Enter Name : \")\n",
    "        self.id = input(\"Enter ID : \")\n",
    "        self.rank = 1\n",
    "        self.free = True\n",
    "    def receive_call(self):\n",
    "        print(\"call received by \",self.name)\n",
    "        self.free = False\n",
    "    def end_call(self):\n",
    "        print(\"call ended\")\n",
    "        self.free = True\n",
    "    def is_free(self):\n",
    "        return self.free\n",
    "    def get_rank(self):\n",
    "        return self.rank\n",
    "class Call():\n",
    "    def __init__(self):\n",
    "        self.id = input(\"Enter ID : \")\n",
    "        self.name = input(\"Enter Name : \")\n",
    "        self.assign = False\n",
    "class CallHandler():\n",
    "    respondents = []\n",
    "    managers = []\n",
    "    directors= []\n",
    "    def add_Employee(self,ob):\n",
    "        if(ob.rank==1):\n",
    "            CallHandler.directors.append(ob)\n",
    "        elif(ob.rank==2):\n",
    "            CallHandler.managers.append(ob)\n",
    "        elif(ob.rank==3):\n",
    "            CallHandler.respondents.append(ob)\n",
    "    def dispatch_call(self,call):\n",
    "        for i in CallHandler.respondents:\n",
    "            if(i.is_free()):\n",
    "                i.receive_call()\n",
    "                Call.assign = True\n",
    "                break\n",
    "        else:\n",
    "            for j in CallHandler.managers:\n",
    "                if(j.is_free()):\n",
    "                    j.receive_call()\n",
    "                    Call.assign = True\n",
    "                    break\n",
    "            else:\n",
    "                for k in CallHandler.directors:\n",
    "                    if(k.is_free()):\n",
    "                        k.receive_call()\n",
    "                        call.assign = True\n",
    "                        break\n",
    "                else:\n",
    "                    print(\"Sorry! All employees are currently busy.\")\n",
    "r1 = Respondent()\n",
    "# r2 = Respondent()\n",
    "# r3 = Respondent()\n",
    "m1 = Manager()\n",
    "# m2 = Manager()\n",
    "d1 = Director()\n",
    "ch = CallHandler()\n",
    "ch.add_Employee(r1)\n",
    "# ch.add_Employee(r2)\n",
    "# ch.add_Employee(r3)\n",
    "ch.add_Employee(m1)\n",
    "# ch.add_Employee(m2)\n",
    "ch.add_Employee(d1)\n",
    "c = Call()\n",
    "ch.dispatch_call(c)"
   ]
  },
  {
   "cell_type": "code",
   "execution_count": 5,
   "metadata": {},
   "outputs": [
    {
     "ename": "TypeError",
     "evalue": "Can't instantiate abstract class Employee with abstract methods emp_id",
     "output_type": "error",
     "traceback": [
      "\u001b[1;31m---------------------------------------------------------------------------\u001b[0m",
      "\u001b[1;31mTypeError\u001b[0m                                 Traceback (most recent call last)",
      "\u001b[1;32m<ipython-input-5-dbfbafb6afd3>\u001b[0m in \u001b[0;36m<module>\u001b[1;34m\u001b[0m\n\u001b[0;32m     36\u001b[0m         \u001b[0mself\u001b[0m\u001b[1;33m.\u001b[0m\u001b[0mfinal\u001b[0m \u001b[1;33m=\u001b[0m \u001b[0mself\u001b[0m\u001b[1;33m.\u001b[0m\u001b[0msal\u001b[0m \u001b[1;33m+\u001b[0m \u001b[0mself\u001b[0m\u001b[1;33m.\u001b[0m\u001b[0mtotal\u001b[0m\u001b[1;33m\u001b[0m\u001b[1;33m\u001b[0m\u001b[0m\n\u001b[0;32m     37\u001b[0m         \u001b[0mprint\u001b[0m\u001b[1;33m(\u001b[0m\u001b[0mself\u001b[0m\u001b[1;33m.\u001b[0m\u001b[0mfinal\u001b[0m\u001b[1;33m)\u001b[0m\u001b[1;33m\u001b[0m\u001b[1;33m\u001b[0m\u001b[0m\n\u001b[1;32m---> 38\u001b[1;33m \u001b[0me\u001b[0m \u001b[1;33m=\u001b[0m \u001b[0mEmployee\u001b[0m\u001b[1;33m(\u001b[0m\u001b[1;33m)\u001b[0m\u001b[1;33m\u001b[0m\u001b[1;33m\u001b[0m\u001b[0m\n\u001b[0m\u001b[0;32m     39\u001b[0m \u001b[0me\u001b[0m\u001b[1;33m.\u001b[0m\u001b[0mData\u001b[0m\u001b[1;33m(\u001b[0m\u001b[1;33m)\u001b[0m\u001b[1;33m\u001b[0m\u001b[1;33m\u001b[0m\u001b[0m\n\u001b[0;32m     40\u001b[0m \u001b[0mns\u001b[0m \u001b[1;33m=\u001b[0m \u001b[0mNetSalary\u001b[0m\u001b[1;33m(\u001b[0m\u001b[1;33m)\u001b[0m\u001b[1;33m\u001b[0m\u001b[1;33m\u001b[0m\u001b[0m\n",
      "\u001b[1;31mTypeError\u001b[0m: Can't instantiate abstract class Employee with abstract methods emp_id"
     ]
    }
   ],
   "source": [
    "from abc import ABC,abstractmethod\n",
    "class Employee(ABC):\n",
    "    def Data(self):\n",
    "        self.name = input(\"Enter Name : \")\n",
    "        self.id = input(\"Enter ID : \")\n",
    "        self.sal = input(\"Enter Salary : \")\n",
    "    def display(self):\n",
    "        print(\"Name : \",self.name)\n",
    "        print(\"ID : \",self.id)\n",
    "        print(\"Salary : \",self.sal)\n",
    "    def get_Sal(self):\n",
    "        return self.sal\n",
    "    @abstractmethod\n",
    "    def emp_id(self):\n",
    "        pass\n",
    "class Perks(Employee):\n",
    "    def __init__(self):\n",
    "        self.da = 0\n",
    "        self.hra = 0\n",
    "        self.pf = 0\n",
    "    def emp_id(self):\n",
    "        pass\n",
    "    def Cal_Perk(self):\n",
    "        self.da = 0.35 * self.sal\n",
    "        self.hra = 0.17 * self.sal\n",
    "        self.da = 0.12 * self.sal\n",
    "        self.total = self.da + self.hra - self.pf\n",
    "        print(self.da)\n",
    "        print(self.hra)\n",
    "        print(self.da)\n",
    "        print(self.total)\n",
    "class NetSalary(Perks):\n",
    "    def emp_id(self):\n",
    "        pass\n",
    "    def cal_netsalary(self):\n",
    "        self.final = self.sal + self.total\n",
    "        print(self.final)\n",
    "e = Employee()\n",
    "e.Data()\n",
    "ns = NetSalary()\n",
    "ns.cal_netsalary()"
   ]
  },
  {
   "cell_type": "markdown",
   "metadata": {},
   "source": [
    "## NumPy : Numerical Python\n",
    "- using for numerical Calculations.\n",
    "###### Creatign NumPy Array\n",
    "- in array we can add list,tuple \n",
    "- Dimentions of array \n",
    "1. 0-D\n",
    "2. 1-D\n",
    "3. 2-D\n",
    "4. 3-D\n",
    "- .ndim - return Dimention\n",
    "- .shape - return tuple of number of element in given array and Dimention \n",
    "- slicing.\n",
    "- .reshape - you can make changes in array in Dimentions (any one argument is -1 which set it by system)\n",
    "-  iteration - by using loop accessing elements of array\n",
    "- .concatenate((array1,array2))\n",
    "- .array_split\n",
    "- .where\n",
    "- .sort\n",
    "- .operation"
   ]
  },
  {
   "cell_type": "code",
   "execution_count": 14,
   "metadata": {},
   "outputs": [
    {
     "name": "stdout",
     "output_type": "stream",
     "text": [
      "Dimention is :  0 D\n",
      "A :  2\n",
      "()\n"
     ]
    }
   ],
   "source": [
    "import numpy as np \n",
    "a = np.array(2)\n",
    "print(\"Dimention is : \",a.ndim,\"D\")\n",
    "print(\"A : \",a)\n",
    "print(a.shape)"
   ]
  },
  {
   "cell_type": "code",
   "execution_count": 15,
   "metadata": {},
   "outputs": [
    {
     "name": "stdout",
     "output_type": "stream",
     "text": [
      "Dimention is :  1 D\n",
      "A :  [10 20 30 40]\n",
      "(4,)\n"
     ]
    }
   ],
   "source": [
    "import numpy as np \n",
    "a = np.array([10,20,30,40])\n",
    "print(\"Dimention is : \",a.ndim,\"D\")\n",
    "print(\"A : \",a)\n",
    "print(a.shape)"
   ]
  },
  {
   "cell_type": "code",
   "execution_count": 16,
   "metadata": {},
   "outputs": [
    {
     "name": "stdout",
     "output_type": "stream",
     "text": [
      "Dimention is :  1 D\n",
      "A :  [10 20 30 40]\n",
      "(4,)\n"
     ]
    }
   ],
   "source": [
    "import numpy as np \n",
    "a = np.array([10,20,30,40])\n",
    "print(\"Dimention is : \",a.ndim,\"D\")\n",
    "print(\"A : \",a)\n",
    "print(a.shape)"
   ]
  },
  {
   "cell_type": "code",
   "execution_count": 17,
   "metadata": {},
   "outputs": [
    {
     "name": "stdout",
     "output_type": "stream",
     "text": [
      "Dimention is :  2 D\n",
      "A :  [[10 20 30]\n",
      " [40 50 60]]\n",
      "(2, 3)\n"
     ]
    }
   ],
   "source": [
    "import numpy as np \n",
    "a = np.array([[10,20,30],[40,50,60]])\n",
    "print(\"Dimention is : \",a.ndim,\"D\")\n",
    "print(\"A : \",a)\n",
    "print(a.shape)"
   ]
  },
  {
   "cell_type": "code",
   "execution_count": 21,
   "metadata": {},
   "outputs": [
    {
     "name": "stdout",
     "output_type": "stream",
     "text": [
      "Dimention is :  3 D\n",
      "A :  [[[ 10  20  30  40]\n",
      "  [ 50  60  70  80]]\n",
      "\n",
      " [[100 200 300 400]\n",
      "  [500 600 700 800]]]\n",
      "(2, 2, 4)\n"
     ]
    }
   ],
   "source": [
    "import numpy as np \n",
    "a = np.array([[[10,20,30,40],[50,60,70,80]],[[100,200,300,400],[500,600,700,800]]])\n",
    "print(\"Dimention is : \",a.ndim,\"D\")\n",
    "print(\"A : \",a)\n",
    "print(a.shape)"
   ]
  },
  {
   "cell_type": "code",
   "execution_count": 23,
   "metadata": {},
   "outputs": [
    {
     "name": "stdout",
     "output_type": "stream",
     "text": [
      "Dimention is :  4 D\n",
      "A :  [[[[1 2 3]]]]\n",
      "(1, 1, 1, 3)\n"
     ]
    }
   ],
   "source": [
    "import numpy as np \n",
    "a = np.array([[[[1,2,3]]]])\n",
    "print(\"Dimention is : \",a.ndim,\"D\")\n",
    "print(\"A : \",a)\n",
    "print(a.shape)"
   ]
  },
  {
   "cell_type": "code",
   "execution_count": 25,
   "metadata": {},
   "outputs": [
    {
     "name": "stdout",
     "output_type": "stream",
     "text": [
      "[[2 3 4]\n",
      " [6 7 8]]\n"
     ]
    }
   ],
   "source": [
    "import numpy as np \n",
    "a = np.array([[1,2,3,4,],[5,6,7,8]])\n",
    "print(a[:,1:4])"
   ]
  },
  {
   "cell_type": "code",
   "execution_count": 28,
   "metadata": {},
   "outputs": [
    {
     "name": "stdout",
     "output_type": "stream",
     "text": [
      "(2, 3, 5)\n",
      "[[[ 8  9 10]\n",
      "  [13 14 15]]\n",
      "\n",
      " [[63 64 65]\n",
      "  [73 74 75]]]\n"
     ]
    }
   ],
   "source": [
    "import numpy as np \n",
    "a = np.array([[[1,2,3,4,5],[6,7,8,9,10],[11,12,13,14,15]],[[51,52,53,54,55],[61,62,63,64,65],[71,72,73,74,75]]])\n",
    "print(a.shape)\n",
    "print(a[:,1:,2:])\n"
   ]
  },
  {
   "cell_type": "code",
   "execution_count": 30,
   "metadata": {},
   "outputs": [
    {
     "name": "stdout",
     "output_type": "stream",
     "text": [
      "(2, 3, 5)\n",
      "[[[52 53]\n",
      "  [62 63]\n",
      "  [72 73]]]\n"
     ]
    }
   ],
   "source": [
    "import numpy as np \n",
    "a = np.array([[[1,2,3,4,5],[6,7,8,9,10],[11,12,13,14,15]],[[51,52,53,54,55],[61,62,63,64,65],[71,72,73,74,75]]])\n",
    "print(a.shape)\n",
    "print(a[1:,:,1:3])\n"
   ]
  },
  {
   "cell_type": "code",
   "execution_count": 34,
   "metadata": {},
   "outputs": [
    {
     "name": "stdout",
     "output_type": "stream",
     "text": [
      "[[[ 2  4]\n",
      "  [12 14]]\n",
      "\n",
      " [[52 54]\n",
      "  [72 74]]]\n"
     ]
    }
   ],
   "source": [
    "import numpy as np \n",
    "a = np.array([[[1,2,3,4,5],[6,7,8,9,10],[11,12,13,14,15]],[[51,52,53,54,55],[61,62,63,64,65],[71,72,73,74,75]]])\n",
    "print(a[:,::2,1::2])"
   ]
  },
  {
   "cell_type": "code",
   "execution_count": 38,
   "metadata": {},
   "outputs": [
    {
     "name": "stdout",
     "output_type": "stream",
     "text": [
      "[ 2 52]\n"
     ]
    }
   ],
   "source": [
    "import numpy as np \n",
    "a = np.array([[[1,2,3,4,5],[6,7,8,9,10],[11,12,13,14,15]],[[51,52,53,54,55],[61,62,63,64,65],[71,72,73,74,75]]])\n",
    "print(a[:,0,1])"
   ]
  },
  {
   "cell_type": "code",
   "execution_count": 46,
   "metadata": {},
   "outputs": [
    {
     "name": "stdout",
     "output_type": "stream",
     "text": [
      "[1 2 3 4 5 6]\n",
      "[[[[1]\n",
      "   [2]]\n",
      "\n",
      "  [[3]\n",
      "   [4]]\n",
      "\n",
      "  [[5]\n",
      "   [6]]]]\n"
     ]
    }
   ],
   "source": [
    "import numpy as np \n",
    "a = np.array((1,2,3,4,5,6))\n",
    "print(a)\n",
    "a = a.reshape(1,3,2,-1)\n",
    "print(a)"
   ]
  },
  {
   "cell_type": "code",
   "execution_count": 49,
   "metadata": {},
   "outputs": [
    {
     "name": "stdout",
     "output_type": "stream",
     "text": [
      "[[[ 1  2  3  4  5]\n",
      "  [ 6  7  8  9 10]\n",
      "  [11 12 13 14 15]\n",
      "  [16 17 18 19 20]\n",
      "  [21 22 23 24 25]]\n",
      "\n",
      " [[26 27 28 29 30]\n",
      "  [31 32 33 34 35]\n",
      "  [36 37 38 39 40]\n",
      "  [41 42 43 44 45]\n",
      "  [46 47 48 49 50]]]\n"
     ]
    }
   ],
   "source": [
    "import numpy as np \n",
    "a = np.array(range(1,51)).reshape(2,5,5)\n",
    "print(a)"
   ]
  },
  {
   "cell_type": "code",
   "execution_count": 53,
   "metadata": {},
   "outputs": [
    {
     "name": "stdout",
     "output_type": "stream",
     "text": [
      "[1 2 3 4 5 6]\n"
     ]
    }
   ],
   "source": [
    "import numpy as np \n",
    "a = np.array([[1,2],[3,4],[5,6]])\n",
    "a = a.reshape(-1)\n",
    "print(a)"
   ]
  },
  {
   "cell_type": "code",
   "execution_count": 62,
   "metadata": {},
   "outputs": [
    {
     "name": "stdout",
     "output_type": "stream",
     "text": [
      "[[[ 1  2  3]\n",
      "  [ 4  5  6]\n",
      "  [ 7  8  9]]\n",
      "\n",
      " [[10 11 12]\n",
      "  [13 14 15]\n",
      "  [16 17 18]]]\n",
      "57\n"
     ]
    }
   ],
   "source": [
    "import numpy as np\n",
    "a = np.array(range(1,19)).reshape(2,3,3)\n",
    "print(a)\n",
    "s = 0\n",
    "for i in a[:,:,1].reshape(-1):\n",
    "    s += i\n",
    "print(s)"
   ]
  },
  {
   "cell_type": "code",
   "execution_count": 64,
   "metadata": {},
   "outputs": [
    {
     "name": "stdout",
     "output_type": "stream",
     "text": [
      "(4,)\n",
      "[1 2 3 4 4 5 6 7]\n",
      "(8,)\n"
     ]
    }
   ],
   "source": [
    "# 1D\n",
    "import numpy as np\n",
    "a1 = np.array([1,2,3,4])\n",
    "a2 = np.array([4,5,6,7])\n",
    "print(a1.shape)\n",
    "n = np.concatenate((a1,a2))\n",
    "print(n)\n",
    "print(n.shape)"
   ]
  },
  {
   "cell_type": "code",
   "execution_count": 73,
   "metadata": {},
   "outputs": [
    {
     "name": "stdout",
     "output_type": "stream",
     "text": [
      "(3, 3)\n",
      "(3, 2)\n",
      "[[ 1  2  3 10 11]\n",
      " [ 4  5  6 13 14]\n",
      " [ 7  8  9 15 16]]\n",
      "(3, 5)\n"
     ]
    }
   ],
   "source": [
    "# 2D\n",
    "import numpy as np\n",
    "a1 = np.array([[1,2,3],[4,5,6],[7,8,9]])\n",
    "a2 = np.array([[10,11],[13,14],[15,16]])\n",
    "print(a1.shape)\n",
    "print(a2.shape)\n",
    "n = np.concatenate((a1,a2),axis=1)\n",
    "print(n)\n",
    "print(n.shape)"
   ]
  },
  {
   "cell_type": "code",
   "execution_count": 6,
   "metadata": {
    "scrolled": true
   },
   "outputs": [
    {
     "name": "stdout",
     "output_type": "stream",
     "text": [
      "(2, 3, 2)\n",
      "(2, 3, 2)\n",
      "(2, 3, 4)\n"
     ]
    }
   ],
   "source": [
    "# 3D\n",
    "import numpy as np\n",
    "a1 = np.array(range(1,13)).reshape(2,3,-1)\n",
    "print(a1.shape)\n",
    "a2 = np.array(range(21,33)).reshape(2,3,-1)\n",
    "print(a2.shape)\n",
    "n = np.concatenate((a1,a2),axis=2)\n",
    "print(n.shape)"
   ]
  },
  {
   "cell_type": "code",
   "execution_count": 5,
   "metadata": {},
   "outputs": [
    {
     "name": "stdout",
     "output_type": "stream",
     "text": [
      "[[[ 1  2  3  4]\n",
      "  [ 5  6  7  8]]\n",
      "\n",
      " [[ 9 10 11 12]\n",
      "  [13 14 15 16]]\n",
      "\n",
      " [[17 18 19 20]\n",
      "  [21 22 23 24]]]\n",
      "12\n"
     ]
    }
   ],
   "source": [
    "import numpy as np\n",
    "a1 = np.array(range(1,25)).reshape(3,2,4)\n",
    "print(a1)\n",
    "for i in a1:\n",
    "    for j in i:\n",
    "        if(j[3]==12):\n",
    "            print(j[3])\n",
    "            break"
   ]
  },
  {
   "cell_type": "code",
   "execution_count": 17,
   "metadata": {},
   "outputs": [
    {
     "name": "stdout",
     "output_type": "stream",
     "text": [
      "(3, 2, 4)\n",
      "(3, 2, 4)\n",
      "(3, 2, 8)\n",
      "[[[ 1  2  3  4 51 52 53 54]\n",
      "  [ 5  6  7  8 55 56 57 58]]\n",
      "\n",
      " [[ 9 10 11 12 59 60 61 62]\n",
      "  [13 14 15 16 63 64 65 66]]\n",
      "\n",
      " [[17 18 19 20 67 68 69 70]\n",
      "  [21 22 23 24 71 72 73 74]]]\n"
     ]
    }
   ],
   "source": [
    "import numpy as np\n",
    "a1 = np.array(range(1,25)).reshape(3,2,4)\n",
    "a2 = np.array(range(51,75)).reshape(3,2,4)\n",
    "print(a1.shape)\n",
    "print(a2.shape)\n",
    "n = np.concatenate((a1,a2),axis=2)\n",
    "print(n.shape)\n",
    "print(n)"
   ]
  },
  {
   "cell_type": "code",
   "execution_count": 27,
   "metadata": {},
   "outputs": [
    {
     "name": "stdout",
     "output_type": "stream",
     "text": [
      "[array([1, 2, 3]), array([4, 5, 6])]\n",
      "--------------------\n",
      "[1 2 3]\n",
      "[4 5 6]\n",
      "--------------------\n",
      "[4 5 6]\n"
     ]
    }
   ],
   "source": [
    "# array_split for 1D\n",
    "import numpy as np \n",
    "a = np.array([1,2,3,4,5,6])\n",
    "x = np.array_split(a,2)\n",
    "print(x)\n",
    "print(\"--------------------\")\n",
    "for i in x:\n",
    "    print(i)\n",
    "print(\"--------------------\")\n",
    "print(x[1])"
   ]
  },
  {
   "cell_type": "code",
   "execution_count": 35,
   "metadata": {},
   "outputs": [
    {
     "name": "stdout",
     "output_type": "stream",
     "text": [
      "[array([1, 2, 3]), array([4, 5, 6])]\n"
     ]
    }
   ],
   "source": [
    "# array_split for 1D\n",
    "import numpy as np \n",
    "a = np.array([1,2,3,4,5,6])\n",
    "x = np.array_split(a,2)\n",
    "print(x)"
   ]
  },
  {
   "cell_type": "code",
   "execution_count": 36,
   "metadata": {},
   "outputs": [
    {
     "name": "stdout",
     "output_type": "stream",
     "text": [
      "[[ 1  2  3  4]\n",
      " [ 5  6  7  8]\n",
      " [ 9 10 11 12]]\n",
      "[array([[1],\n",
      "       [5],\n",
      "       [9]]), array([[ 2],\n",
      "       [ 6],\n",
      "       [10]]), array([[ 3],\n",
      "       [ 7],\n",
      "       [11]]), array([[ 4],\n",
      "       [ 8],\n",
      "       [12]]), array([], shape=(3, 0), dtype=int32)]\n"
     ]
    }
   ],
   "source": [
    "# array_split for 2D\n",
    "import numpy as np \n",
    "a = np.array(range(1,13)).reshape(3,4)\n",
    "print(a)\n",
    "x = np.array_split(a,5,axis=1)\n",
    "print(x)"
   ]
  },
  {
   "cell_type": "code",
   "execution_count": 49,
   "metadata": {},
   "outputs": [
    {
     "name": "stdout",
     "output_type": "stream",
     "text": [
      "[[[ 1  2  3  4]\n",
      "  [ 5  6  7  8]\n",
      "  [ 9 10 11 12]]\n",
      "\n",
      " [[13 14 15 16]\n",
      "  [17 18 19 20]\n",
      "  [21 22 23 24]]]\n",
      "[array([[[ 1],\n",
      "        [ 5],\n",
      "        [ 9]],\n",
      "\n",
      "       [[13],\n",
      "        [17],\n",
      "        [21]]]), array([[[ 2],\n",
      "        [ 6],\n",
      "        [10]],\n",
      "\n",
      "       [[14],\n",
      "        [18],\n",
      "        [22]]]), array([[[ 3],\n",
      "        [ 7],\n",
      "        [11]],\n",
      "\n",
      "       [[15],\n",
      "        [19],\n",
      "        [23]]]), array([[[ 4],\n",
      "        [ 8],\n",
      "        [12]],\n",
      "\n",
      "       [[16],\n",
      "        [20],\n",
      "        [24]]])]\n"
     ]
    }
   ],
   "source": [
    "# array_split for 3D\n",
    "import numpy as np \n",
    "a = np.array(range(1,25)).reshape(2,3,4)\n",
    "print(a)\n",
    "x = np.array_split(a,4,axis= 2)\n",
    "print(x)"
   ]
  },
  {
   "cell_type": "markdown",
   "metadata": {},
   "source": [
    "### Where : "
   ]
  },
  {
   "cell_type": "code",
   "execution_count": 53,
   "metadata": {},
   "outputs": [
    {
     "name": "stdout",
     "output_type": "stream",
     "text": [
      "(array([0, 1, 2], dtype=int64), array([1, 1, 1], dtype=int64))\n"
     ]
    }
   ],
   "source": [
    "import numpy as np \n",
    "a = np.array([[1,2],[3,4],[5,6]])\n",
    "x = np.where(a%2==0)\n",
    "print(x)"
   ]
  },
  {
   "cell_type": "code",
   "execution_count": 59,
   "metadata": {},
   "outputs": [
    {
     "name": "stdout",
     "output_type": "stream",
     "text": [
      "(array([0, 0, 0, 1, 2, 2], dtype=int64), array([0, 1, 1, 1, 0, 0], dtype=int64), array([0, 0, 1, 1, 0, 2], dtype=int64))\n"
     ]
    }
   ],
   "source": [
    "import numpy as np \n",
    "a = np.array([[[2,3,9],[4,6,7]],\n",
    "              [[1,3,5],[7,8,7]],\n",
    "              [[16,3,4],[7,7,7]]])\n",
    "x = np.where(a%2==0)\n",
    "print(x)"
   ]
  },
  {
   "cell_type": "markdown",
   "metadata": {},
   "source": [
    "### Sort"
   ]
  },
  {
   "cell_type": "code",
   "execution_count": 61,
   "metadata": {},
   "outputs": [
    {
     "name": "stdout",
     "output_type": "stream",
     "text": [
      "[9 6 5 2 1]\n"
     ]
    }
   ],
   "source": [
    "a = np.array([1,9,5,2,6])\n",
    "print(np.sort(a)[::-1])"
   ]
  },
  {
   "cell_type": "code",
   "execution_count": 72,
   "metadata": {},
   "outputs": [
    {
     "name": "stdout",
     "output_type": "stream",
     "text": [
      "[[ 2  1]\n",
      " [ 6  5]\n",
      " [ 9 20]]\n"
     ]
    }
   ],
   "source": [
    "a1 = np.array([[9,1],\n",
    "              [6,20],\n",
    "              [2,5]])\n",
    "a1 = np.sort(a1,axis=0) # આમા જ highest અક્સિસ default હોય છે \n",
    "print(a1)"
   ]
  },
  {
   "cell_type": "code",
   "execution_count": 82,
   "metadata": {},
   "outputs": [
    {
     "name": "stdout",
     "output_type": "stream",
     "text": [
      "[[[1 3 5]\n",
      "  [4 6 7]]\n",
      "\n",
      " [[2 3 9]\n",
      "  [7 8 7]]]\n"
     ]
    }
   ],
   "source": [
    "import numpy as np \n",
    "a = np.array([[[2,3,9],\n",
    "               [4,6,7]],\n",
    "              [[1,3,5],\n",
    "               [7,8,7]]])\n",
    "x = np.sort(a,axis=0)\n",
    "print(x)"
   ]
  },
  {
   "cell_type": "markdown",
   "metadata": {},
   "source": [
    "###  Operations : \n",
    "- it performs actual operation with every elements of arrays."
   ]
  },
  {
   "cell_type": "code",
   "execution_count": null,
   "metadata": {},
   "outputs": [],
   "source": []
  }
 ],
 "metadata": {
  "kernelspec": {
   "display_name": "Python 3",
   "language": "python",
   "name": "python3"
  },
  "language_info": {
   "codemirror_mode": {
    "name": "ipython",
    "version": 3
   },
   "file_extension": ".py",
   "mimetype": "text/x-python",
   "name": "python",
   "nbconvert_exporter": "python",
   "pygments_lexer": "ipython3",
   "version": "3.8.5"
  }
 },
 "nbformat": 4,
 "nbformat_minor": 4
}
