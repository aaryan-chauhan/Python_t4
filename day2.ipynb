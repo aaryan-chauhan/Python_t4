{
 "cells": [
  {
   "cell_type": "code",
   "execution_count": 4,
   "metadata": {},
   "outputs": [
    {
     "name": "stdout",
     "output_type": "stream",
     "text": [
      "(<class '__main__.C'>, <class '__main__.A'>, <class '__main__.B'>, <class 'object'>)\n"
     ]
    }
   ],
   "source": [
    "#method resolution order\n",
    "#deapth first search hota he\n",
    "#start with child 'C' then go to parent do first parent is 'A' then 'B' then the object itself\n",
    "\n",
    "class A:\n",
    "     def rk(self):\n",
    "        print(\" In class A\")\n",
    "class B:\n",
    "     def rk(self):\n",
    "        print(\" In class B\")\n",
    "class C(A, B):\n",
    "     def rk(self):\n",
    "        pass\n",
    "r = C()\n",
    "print(C.__mro__)\n"
   ]
  },
  {
   "cell_type": "code",
   "execution_count": 5,
   "metadata": {},
   "outputs": [
    {
     "data": {
      "text/plain": [
       "(__main__.T, __main__.S, __main__.R, __main__.P, __main__.Q, object)"
      ]
     },
     "execution_count": 5,
     "metadata": {},
     "output_type": "execute_result"
    }
   ],
   "source": [
    "class P:\n",
    "     pass\n",
    "class Q:\n",
    "     pass\n",
    "class R(P,Q):\n",
    "     pass\n",
    "class S(Q):\n",
    "     pass \n",
    "class T(S,R):\n",
    "     pass\n",
    "a=T()\n",
    "T.__mro__\n",
    "#tsqrp"
   ]
  },
  {
   "cell_type": "code",
   "execution_count": 19,
   "metadata": {},
   "outputs": [
    {
     "name": "stdout",
     "output_type": "stream",
     "text": [
      "(<class '__main__.P'>, <class '__main__.Z'>, <class '__main__.Y'>, <class '__main__.X'>, <class '__main__.A'>, <class '__main__.B'>, <class '__main__.C'>, <class 'object'>)\n"
     ]
    }
   ],
   "source": [
    "class A:\n",
    "     pass\n",
    "class B:\n",
    "     pass\n",
    "class C:\n",
    "     pass\n",
    "class X(A,B):\n",
    "     pass\n",
    "class Y(A,B,C):\n",
    "     pass\n",
    "class Z(A):\n",
    "     pass\n",
    "class P(Z,Y,X):\n",
    "     pass\n",
    "p=P()\n",
    "print(P.__mro__)\n",
    "#pzycxab"
   ]
  },
  {
   "cell_type": "code",
   "execution_count": 20,
   "metadata": {},
   "outputs": [
    {
     "name": "stdout",
     "output_type": "stream",
     "text": [
      "(<class '__main__.Z'>, <class '__main__.K1'>, <class '__main__.C'>, <class '__main__.K3'>, <class '__main__.A'>, <class '__main__.K2'>, <class '__main__.B'>, <class '__main__.D'>, <class '__main__.E'>, <class 'object'>)\n"
     ]
    }
   ],
   "source": [
    "class A: pass\n",
    "class B: pass\n",
    "class C: pass\n",
    "class D:pass\n",
    "class E:pass\n",
    "class K1(C,A,B): pass\n",
    "class K3(A,D): pass\n",
    "class K2(B,D,E): pass\n",
    "class Z( K1,K3,K2): pass\n",
    "print(Z.__mro__)\n"
   ]
  },
  {
   "cell_type": "code",
   "execution_count": 25,
   "metadata": {},
   "outputs": [
    {
     "name": "stdout",
     "output_type": "stream",
     "text": [
      "Enter name of vehicle: bus\n",
      "Enter mileage of vehicle: 50\n",
      "Enter seating capacity of vehicle: 5\n",
      "550.0\n"
     ]
    }
   ],
   "source": [
    "\"\"\"Write a python program to create a Bus child class that inherits from the Vehicle class.\n",
    "In Vehicle class vehicle name, mileage and seatingcapacity as its data member. The default fare charge of any vehicle is \n",
    "seating capacity * 100. If Vehicle is Bus instance, we need to add an extra 10% on full fare as a maintenance charge. So \n",
    "total fare for bus instance will become the final amount = total fare + 10% of the total fare.\"\"\"\n",
    "\n",
    "class vehicle:\n",
    "    def __init__(self):\n",
    "        self.name=input(\"Enter name of vehicle: \")\n",
    "        self.mileage=input(\"Enter mileage of vehicle: \")\n",
    "        self.seatcap=int(input(\"Enter seating capacity of vehicle: \"))\n",
    "    def fair(self):\n",
    "        return self.seatcap*100\n",
    "    def diaplay(self):\n",
    "        print(\"name:\",self.name)\n",
    "        print(\"mileage:\",self.mileage)\n",
    "        print(\"seat capacity:\",self.seatcap)\n",
    "class bus(vehicle):\n",
    "    def fair(self):\n",
    "        return self.seatcap*100 + self.seatcap*100*0.1\n",
    "class car(vehicle):\n",
    "    def fair(self):\n",
    "        return self.seatcap*100 \n",
    "ob=bus()\n",
    "print(ob.fair())"
   ]
  },
  {
   "cell_type": "code",
   "execution_count": 26,
   "metadata": {},
   "outputs": [
    {
     "name": "stdout",
     "output_type": "stream",
     "text": [
      "Enter rows: 2\n",
      "Enter cols: 3\n",
      "Enter element (0, 0):2\n",
      "Enter element (0, 1):2\n",
      "Enter element (0, 2):2\n",
      "Enter element (1, 0):2\n",
      "Enter element (1, 1):2\n",
      "Enter element (1, 2):2\n",
      "2 2 2 \n",
      "2 2 2 \n",
      "Enter rows: 3\n",
      "Enter cols: 2\n",
      "Enter element (0, 0):3\n",
      "Enter element (0, 1):3\n",
      "Enter element (1, 0):3\n",
      "Enter element (1, 1):3\n",
      "Enter element (2, 0):3\n",
      "Enter element (2, 1):3\n",
      "3 3 \n",
      "3 3 \n",
      "3 3 \n",
      "Matrix are not addable\n",
      "18 18 \n",
      "18 18 \n"
     ]
    }
   ],
   "source": [
    "\"\"\"Create a class called Matrix containing constructor that initialized the number of rows and number of columns of a new \n",
    "Matrix object.\n",
    "The Matrix class has methods for each of the following:\n",
    "1. get the number of rows\n",
    "2. get the number of columns\n",
    "3. set the elements of the matrix at given position (i,j)\n",
    "4. adding two matrices. If the matrices are not addable, “ Matrices cannot be added” will be displayed.(Overload the \n",
    "addition operation to perform this)\n",
    "5. Multiplying the two matrices. If the matrices are not multiplied, “ Matrices cannot be multiplied” will be \n",
    "displayed.(Overload the addition operation to perform this)\n",
    "\"\"\"\n",
    "\n",
    "class matrix:\n",
    "    def __init__(self):\n",
    "        self.i=0\n",
    "        self.j=0\n",
    "    def getrows(self):\n",
    "        self.i=int(input(\"Enter rows: \"))\n",
    "    def getcols(self):\n",
    "        self.j=int(input(\"Enter cols: \"))\n",
    "    def setele(self):\n",
    "        self.l=[]\n",
    "        for r in range(self.i):\n",
    "            l1=[0]*self.j\n",
    "            for c in range(self.j):\n",
    "                l1[c]=int(input(f\"Enter element {r,c}:\"))            \n",
    "            self.l.append(l1)\n",
    "        self.display(self.l)\n",
    "    def display(self,l):\n",
    "        for i in range(len(l)):\n",
    "            for j in range(len(l[0])):\n",
    "                print(l[i][j],end=\" \")\n",
    "            print()\n",
    "    def __add__(self,other):\n",
    "        if(self.i==other.i and  self.j==other.j): \n",
    "            self.res=[]\n",
    "            for i in range(self.i):\n",
    "                l=[0]*self.j\n",
    "                for j in range(self.j):\n",
    "                    l[j]=self.l[i][j]+other.l[i][j]\n",
    "                self.res.append(l)\n",
    "            self.display(self.res)\n",
    "        else:\n",
    "            print(\"Matrix are not addable\")\n",
    "    def __mul__(m1,m2):\n",
    "        if(m1.j==m2.i):\n",
    "            res=[]\n",
    "            for i in range(m1.i):\n",
    "                l1=[]\n",
    "                for j in range(m2.j):\n",
    "                    n=0\n",
    "                    for k in range(m2.i):\n",
    "                        n+=m1.l[i][k]*m2.l[k][j]\n",
    "                    l1.append(n)\n",
    "                res.append(l1)\n",
    "            m1.display(res)\n",
    "        else:\n",
    "            print(\"lists are not multiplicable!\")\n",
    "m=matrix()\n",
    "m.getrows()\n",
    "m.getcols()\n",
    "m.setele()\n",
    "m1=matrix()\n",
    "m1.getrows()\n",
    "m1.getcols()\n",
    "m1.setele()\n",
    "m+m1\n",
    "m*m1"
   ]
  },
  {
   "cell_type": "code",
   "execution_count": null,
   "metadata": {},
   "outputs": [],
   "source": []
  },
  {
   "cell_type": "code",
   "execution_count": null,
   "metadata": {},
   "outputs": [],
   "source": []
  }
 ],
 "metadata": {
  "kernelspec": {
   "display_name": "Python 3",
   "language": "python",
   "name": "python3"
  },
  "language_info": {
   "codemirror_mode": {
    "name": "ipython",
    "version": 3
   },
   "file_extension": ".py",
   "mimetype": "text/x-python",
   "name": "python",
   "nbconvert_exporter": "python",
   "pygments_lexer": "ipython3",
   "version": "3.8.5"
  }
 },
 "nbformat": 4,
 "nbformat_minor": 4
}
