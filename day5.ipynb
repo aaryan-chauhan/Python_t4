{
 "cells": [
  {
   "cell_type": "code",
   "execution_count": 26,
   "metadata": {
    "scrolled": false
   },
   "outputs": [
    {
     "name": "stdout",
     "output_type": "stream",
     "text": [
      "[[[ 1  2  3  4]\n",
      "  [ 5  6  7  8]]\n",
      "\n",
      " [[ 9 10 11 12]\n",
      "  [13 14 15 16]]\n",
      "\n",
      " [[17 18 19 20]\n",
      "  [21 22 23 24]]]\n",
      "12\n",
      "===========\n",
      "[[[ 1  2  3  4]\n",
      "  [ 5  6  7  8]]\n",
      "\n",
      " [[ 9 10 11 12]\n",
      "  [13 14 15 16]]\n",
      "\n",
      " [[17 18 19 20]\n",
      "  [21 22 23 24]]]\n",
      "===========\n",
      "[[[51 52 53 54]\n",
      "  [55 56 57 58]]\n",
      "\n",
      " [[59 60 61 62]\n",
      "  [63 64 65 66]]\n",
      "\n",
      " [[67 68 69 70]\n",
      "  [71 72 73 74]]]\n",
      "===========\n",
      "(3, 2, 8)\n",
      "===========\n",
      "[[[ 1  2  3  4 51 52 53 54]\n",
      "  [ 5  6  7  8 55 56 57 58]]\n",
      "\n",
      " [[ 9 10 11 12 59 60 61 62]\n",
      "  [13 14 15 16 63 64 65 66]]\n",
      "\n",
      " [[17 18 19 20 67 68 69 70]\n",
      "  [21 22 23 24 71 72 73 74]]]\n",
      "===========\n",
      "[array([1, 2, 3]), array([4, 5, 6])]\n"
     ]
    }
   ],
   "source": [
    "# numpy: 0D, 1D, 2D, 3D, 4D, 5D\n",
    "import numpy as np\n",
    "l=(3,2,4)\n",
    "a=np.array(range(1,25)).reshape(3,2,4)\n",
    "print(a)\n",
    "for i in a:\n",
    "    for j in i:\n",
    "        for k in j:\n",
    "            if (k==12):\n",
    "                print(k)\n",
    "                break\n",
    "for i in range(len(a)):\n",
    "    for j in range((i)):\n",
    "        for k in range((j)):\n",
    "            if (a[i,j,k]==12):\n",
    "                print(k)\n",
    "                break\n",
    "\n",
    "                \n",
    "a1=np.array(range(1,25)).reshape(3,2,4)\n",
    "print(\"===========\")\n",
    "print(a1)\n",
    "\n",
    "a2=np.array(range(51,75)).reshape(3,2,4)\n",
    "print(\"===========\")\n",
    "print(a2)\n",
    "\n",
    "a3=np.concatenate((a1,a2),axis=2)\n",
    "print(\"===========\")\n",
    "print(a3.shape)\n",
    "\n",
    "print(\"===========\")\n",
    "print(a3)\n",
    "print(\"===========\")\n",
    "\n",
    "b=np.array([1,2,3,4,5,6])\n",
    "x=np.array_split(b,2)\n",
    "print(x)"
   ]
  },
  {
   "cell_type": "code",
   "execution_count": 32,
   "metadata": {},
   "outputs": [
    {
     "name": "stdout",
     "output_type": "stream",
     "text": [
      "[array([1, 2]), array([3]), array([4]), array([5])]\n",
      "===========\n",
      "[1 2]\n",
      "[3]\n",
      "[4]\n",
      "[5]\n",
      "===========\n",
      "[3]\n"
     ]
    }
   ],
   "source": [
    "a=np.array([1,2,3,4,5])\n",
    "x=np.array_split(a,4)\n",
    "print(x)\n",
    "print(\"===========\")\n",
    "for i in x:\n",
    "    print(i)\n",
    "print(\"===========\")\n",
    "print(x[1])"
   ]
  },
  {
   "cell_type": "code",
   "execution_count": 46,
   "metadata": {
    "scrolled": true
   },
   "outputs": [
    {
     "name": "stdout",
     "output_type": "stream",
     "text": [
      "[array([[ 1,  2],\n",
      "       [ 5,  6],\n",
      "       [ 9, 10]]), array([[ 3,  4],\n",
      "       [ 7,  8],\n",
      "       [11, 12]])]\n"
     ]
    }
   ],
   "source": [
    "a=np.array(range(1,13)).reshape(3,4)\n",
    "x=np.array_split(a,2,axis=1)\n",
    "print(x)"
   ]
  },
  {
   "cell_type": "code",
   "execution_count": 63,
   "metadata": {},
   "outputs": [
    {
     "name": "stdout",
     "output_type": "stream",
     "text": [
      "[[[ 1  2  3  4]\n",
      "  [ 5  6  7  8]]\n",
      "\n",
      " [[ 9 10 11 12]\n",
      "  [13 14 15 16]]\n",
      "\n",
      " [[17 18 19 20]\n",
      "  [21 22 23 24]]]\n",
      "[array([[[ 1],\n",
      "        [ 5]],\n",
      "\n",
      "       [[ 9],\n",
      "        [13]],\n",
      "\n",
      "       [[17],\n",
      "        [21]]]), array([[[ 2],\n",
      "        [ 6]],\n",
      "\n",
      "       [[10],\n",
      "        [14]],\n",
      "\n",
      "       [[18],\n",
      "        [22]]]), array([[[ 3],\n",
      "        [ 7]],\n",
      "\n",
      "       [[11],\n",
      "        [15]],\n",
      "\n",
      "       [[19],\n",
      "        [23]]]), array([[[ 4],\n",
      "        [ 8]],\n",
      "\n",
      "       [[12],\n",
      "        [16]],\n",
      "\n",
      "       [[20],\n",
      "        [24]]])]\n"
     ]
    }
   ],
   "source": [
    "import numpy as np\n",
    "a=np.array(range(1,25)).reshape(3,2,4)\n",
    "print(a)\n",
    "x=np.array_split(a,4,axis=2)\n",
    "print(x)"
   ]
  },
  {
   "cell_type": "code",
   "execution_count": 67,
   "metadata": {},
   "outputs": [
    {
     "name": "stdout",
     "output_type": "stream",
     "text": [
      "(array([2, 5, 7], dtype=int64),)\n",
      "(array([0, 1, 2], dtype=int64), array([1, 1, 1], dtype=int64))\n"
     ]
    }
   ],
   "source": [
    "a=np.array([1,2,4,9,5,4,6,4])\n",
    "x=np.where(a==4)\n",
    "print(x)\n",
    "a1=np.array(range(1,7)).reshape(3,2)\n",
    "x1=np.where(a1%2==0)\n",
    "print(x1)"
   ]
  },
  {
   "cell_type": "code",
   "execution_count": 70,
   "metadata": {},
   "outputs": [
    {
     "name": "stdout",
     "output_type": "stream",
     "text": [
      "[9 6 5 2 1]\n"
     ]
    }
   ],
   "source": [
    "a=np.array([1,9,5,2,6])\n",
    "a=np.sort(a)\n",
    "print(a[::-1])"
   ]
  },
  {
   "cell_type": "code",
   "execution_count": 77,
   "metadata": {},
   "outputs": [
    {
     "name": "stdout",
     "output_type": "stream",
     "text": [
      "[[ 2  1]\n",
      " [ 6  5]\n",
      " [ 9 20]]\n"
     ]
    }
   ],
   "source": [
    "a=np.array([[9,1],[6,20],[2,5]])\n",
    "a=np.sort(a,axis=0)\n",
    "\n",
    "print(a)"
   ]
  },
  {
   "cell_type": "code",
   "execution_count": 81,
   "metadata": {},
   "outputs": [
    {
     "name": "stdout",
     "output_type": "stream",
     "text": [
      "[[[1 3 5]\n",
      "  [4 6 7]]\n",
      "\n",
      " [[2 3 9]\n",
      "  [7 8 7]]]\n"
     ]
    }
   ],
   "source": [
    "a=np.array([[[2,3,9],[4,6,7]],[[1,3,5],[7,8,7]]])\n",
    "\n",
    "print(np.sort(a,axis=0))\n",
    "print(\"===========\")\n",
    "print(np.sort(a,axis=1))\n",
    "print(\"===========\")\n",
    "print(np.sort(a,axis=2))\n",
    "print(\"===========\")\n"
   ]
  },
  {
   "cell_type": "markdown",
   "metadata": {},
   "source": [
    "[[[9,2,5],[6,1,7]],\n",
    " [[3,1,4],[5,20,5]],\n",
    " [[2,10,3],[4,15,3]]]\n",
    "\n",
    "# axis=0 sort()\n",
    "[[[2,1,3],[4,1,3]],\n",
    " [[3,2,4],[5,4,5]],\n",
    " [[9,10,5],[6,20,7]]]\n",
    "\n",
    "# axis=1 sort()\n",
    "[[[6,1,5],[9,2,7]],\n",
    " [[3,1,4],[5,20,5]],\n",
    " [[2,10,3],[4,15,3]]]\n",
    "\n",
    "# axis=2 sort()\n",
    "[[[2,5,9],[1,6,7]],\n",
    " [[1,3,4],[5,5,20]],\n",
    " [[2,3,10],[3,4,15]]]"
   ]
  },
  {
   "cell_type": "code",
   "execution_count": null,
   "metadata": {},
   "outputs": [],
   "source": []
  }
 ],
 "metadata": {
  "kernelspec": {
   "display_name": "Python 3",
   "language": "python",
   "name": "python3"
  },
  "language_info": {
   "codemirror_mode": {
    "name": "ipython",
    "version": 3
   },
   "file_extension": ".py",
   "mimetype": "text/x-python",
   "name": "python",
   "nbconvert_exporter": "python",
   "pygments_lexer": "ipython3",
   "version": "3.8.5"
  }
 },
 "nbformat": 4,
 "nbformat_minor": 4
}
