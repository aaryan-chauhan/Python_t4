{
 "cells": [
  {
   "cell_type": "code",
   "execution_count": 8,
   "metadata": {},
   "outputs": [
    {
     "name": "stdout",
     "output_type": "stream",
     "text": [
      "2\n",
      "2 3\n"
     ]
    }
   ],
   "source": [
    "# There is no method overloading in python\n",
    "\n",
    "class a:\n",
    "    def display(self,x,y=None):\n",
    "        if y==None:\n",
    "            print(x)\n",
    "        else:\n",
    "            print(x,y)\n",
    "ob=a()\n",
    "ob.display(2)\n",
    "ob.display(2,3)"
   ]
  },
  {
   "cell_type": "code",
   "execution_count": 19,
   "metadata": {},
   "outputs": [
    {
     "name": "stdout",
     "output_type": "stream",
     "text": [
      "(22, 33)\n",
      "(False, False)\n",
      "(True, True)\n"
     ]
    }
   ],
   "source": [
    "# Polymorphism\n",
    "\n",
    "class a:\n",
    "    def __init__(self,x,y):\n",
    "        self.x=x\n",
    "        self.y=y\n",
    "    def __add__(self,other):\n",
    "        x=self.x+other.x\n",
    "        y=self.y+other.y\n",
    "        return (x,y)\n",
    "    def __sub__(self,other):\n",
    "        x=self.x-other.x\n",
    "        y=self.y-other.y\n",
    "        return (x,y)\n",
    "    def __mul__(self,other):\n",
    "        x=self.x*other.x\n",
    "        y=self.y*other.y\n",
    "        return (x,y)\n",
    "    def __truediv__(self,other):\n",
    "        x=self.x/other.x\n",
    "        y=self.y/other.y\n",
    "        return (x,y)\n",
    "    def __floordiv__(self,other):\n",
    "        x=self.x//other.x\n",
    "        y=self.y//other.y\n",
    "        return (x,y)\n",
    "    def __mod__(self,other):\n",
    "        x=self.x%other.x\n",
    "        y=self.y%other.y\n",
    "        return (x,y)\n",
    "    def __pow__(self,other):\n",
    "        x=self.x**other.x\n",
    "        y=self.y**other.y\n",
    "        return (x,y)\n",
    "    def __lt__(self,other):\n",
    "        x=self.x<other.x\n",
    "        y=self.y<other.y\n",
    "        return (x,y)\n",
    "    def __gt__(self,other):\n",
    "        x=self.x>other.x\n",
    "        y=self.y>other.y\n",
    "        return (x,y)\n",
    "p1=a(2,3)\n",
    "p2=a(20,30)\n",
    "print(p1+p2)\n",
    "print(p1>p2)\n",
    "print(p1<p2)\n"
   ]
  },
  {
   "cell_type": "code",
   "execution_count": 22,
   "metadata": {},
   "outputs": [
    {
     "name": "stdout",
     "output_type": "stream",
     "text": [
      "Marks are same!\n",
      "True\n"
     ]
    }
   ],
   "source": [
    "class student:\n",
    "    def __init__(self,name,roll,age,marks):\n",
    "        self.name=name\n",
    "        self.roll=roll\n",
    "        self.age=age\n",
    "        self.marks=marks\n",
    "    def display(self):\n",
    "        print(\"Student name: \",self.name)\n",
    "        print(\"Student roll number: \",self.roll)\n",
    "        print(\"Student age: \",self.age)\n",
    "        print(\"Student marks: \",self.marks)\n",
    "    def __eq__(self,other):\n",
    "        if self.marks==other.marks:\n",
    "            print(\"Marks are same!\")\n",
    "            return self.marks==other.marks\n",
    "        else:\n",
    "            print(\"Marks are not same :(\")\n",
    "            return (\"not equal\")\n",
    "s1=student(\"aaryan\",1,19,100)\n",
    "s2=student(\"nirav\",1,19,100)\n",
    "print(s1==s2)\n",
    "        "
   ]
  },
  {
   "cell_type": "code",
   "execution_count": 24,
   "metadata": {},
   "outputs": [
    {
     "name": "stdout",
     "output_type": "stream",
     "text": [
      "class a\n",
      "class b\n"
     ]
    }
   ],
   "source": [
    "class a:\n",
    "    def demo(self):\n",
    "        print(\"class a\")\n",
    "class b(a):\n",
    "    def dis(self):\n",
    "        print(\"class b\")\n",
    "ob=b()\n",
    "ob.demo()\n",
    "ob.dis()\n",
    "\n"
   ]
  },
  {
   "cell_type": "code",
   "execution_count": 34,
   "metadata": {},
   "outputs": [
    {
     "name": "stdout",
     "output_type": "stream",
     "text": [
      "Name:  aaryan ki kahani\n",
      "author:  aaryan\n",
      "course Name:  python\n"
     ]
    }
   ],
   "source": [
    "# Q 671\n",
    "# create a class book which has name, n, author, publisher, ISBN,  year as variables\n",
    "class book():\n",
    "    def __init__(self, name, n, author, publisher, ISBN, year):\n",
    "        self.name=name\n",
    "        self.n=n\n",
    "        self.author=author\n",
    "        self.publisher=publisher\n",
    "        self.ISBN=ISBN\n",
    "        self.year=year\n",
    "    def display(self):\n",
    "        print(\"Name: \",self.name)\n",
    "        print(\"author: \",self.author)\n",
    "class TextBook(book):\n",
    "    def __init__(self,course):\n",
    "        super().__init__(\"aaryan ki kahani\", 5, \"aaryan\", \"aaryan\", \"isbn\", 2005)\n",
    "        self.course=course\n",
    "    def display(self):\n",
    "        super().display()\n",
    "        print(\"course Name: \",self.course)\n",
    "ob=TextBook(\"python\")\n",
    "ob.display()"
   ]
  },
  {
   "cell_type": "code",
   "execution_count": 43,
   "metadata": {},
   "outputs": [
    {
     "name": "stdout",
     "output_type": "stream",
     "text": [
      "Name:  aaryan\n",
      "Age:  19\n",
      "Model:  harrier\n",
      "Colour:  black\n",
      "Parking Number:  3\n"
     ]
    }
   ],
   "source": [
    "class person:\n",
    "    def __init__(self, name, age):\n",
    "        self.name=name\n",
    "        self.age=age\n",
    "class car(person):\n",
    "    def __init__(self, model, color):\n",
    "        super().__init__(\"aaryan\", 19)\n",
    "        self.model=model\n",
    "        self.color=color\n",
    "class parking(car):\n",
    "    def __init__(self, parkno):\n",
    "        super().__init__(\"harrier\", \"black\")\n",
    "        self.parkno=parkno\n",
    "    def display(self):\n",
    "        print(\"Name: \",self.name)\n",
    "        print(\"Age: \",self.age)        \n",
    "        print(\"Model: \",self.model)                \n",
    "        print(\"Colour: \",self.color)                        \n",
    "        print(\"Parking Number: \",self.parkno)                        \n",
    "ob=parking(3)\n",
    "ob.display()"
   ]
  },
  {
   "cell_type": "code",
   "execution_count": 42,
   "metadata": {},
   "outputs": [
    {
     "name": "stdout",
     "output_type": "stream",
     "text": [
      "Name:  aaryan\n",
      "Age:  19\n",
      "Model:  harrier\n",
      "Colour:  black\n",
      "Parking Number:  3\n"
     ]
    }
   ],
   "source": [
    "class person:\n",
    "    def __init__(self, name, age):\n",
    "        self.name=name\n",
    "        self.age=age\n",
    "class car():\n",
    "    def __init__(self, model, color):\n",
    "        self.model=model\n",
    "        self.color=color\n",
    "class parking(person,car):\n",
    "    def __init__(self, parkno):\n",
    "        person.__init__(self,\"aaryan\", 19)\n",
    "        car.__init__(self,\"harrier\", \"black\")\n",
    "        self.parkno=parkno\n",
    "    def display(self):\n",
    "        print(\"Name: \",self.name)\n",
    "        print(\"Age: \",self.age)        \n",
    "        print(\"Model: \",self.model)                \n",
    "        print(\"Colour: \",self.color)                        \n",
    "        print(\"Parking Number: \",self.parkno)                        \n",
    "ob=parking(3)\n",
    "ob.display()"
   ]
  },
  {
   "cell_type": "code",
   "execution_count": null,
   "metadata": {},
   "outputs": [],
   "source": []
  }
 ],
 "metadata": {
  "kernelspec": {
   "display_name": "Python 3",
   "language": "python",
   "name": "python3"
  },
  "language_info": {
   "codemirror_mode": {
    "name": "ipython",
    "version": 3
   },
   "file_extension": ".py",
   "mimetype": "text/x-python",
   "name": "python",
   "nbconvert_exporter": "python",
   "pygments_lexer": "ipython3",
   "version": "3.8.5"
  }
 },
 "nbformat": 4,
 "nbformat_minor": 4
}
